{
 "cells": [
  {
   "cell_type": "code",
   "execution_count": 23,
   "id": "f3b1994b",
   "metadata": {},
   "outputs": [
    {
     "name": "stderr",
     "output_type": "stream",
     "text": [
      "C:\\Users\\Nana Tieku\\AppData\\Local\\Temp\\ipykernel_30068\\2472826684.py:10: SADeprecationWarning: The Engine.table_names() method is deprecated and will be removed in a future release.  Please refer to Inspector.get_table_names(). (deprecated since: 1.4)\n",
      "  print(engine.table_names())\n"
     ]
    },
    {
     "name": "stdout",
     "output_type": "stream",
     "text": [
      "['relation', 'spatial_ref_sys', 'schema_info', 'users', 'ways', 'way_nodes', 'relations', 'relation_members', 'nodes', 'my_table3']\n",
      "10\n"
     ]
    },
    {
     "name": "stderr",
     "output_type": "stream",
     "text": [
      "C:\\Users\\Nana Tieku\\AppData\\Local\\Temp\\ipykernel_30068\\2472826684.py:11: SADeprecationWarning: The Engine.table_names() method is deprecated and will be removed in a future release.  Please refer to Inspector.get_table_names(). (deprecated since: 1.4)\n",
      "  print(len(engine.table_names()))\n"
     ]
    }
   ],
   "source": [
    "## Connect to a database\n",
    "import pandas as pd\n",
    "# Import sqlalchemy's create_engine() function\n",
    "from sqlalchemy import create_engine\n",
    "\n",
    "# Create the database engine\n",
    "engine = create_engine(f'postgresql://{username}:{password}@{hostname}:{port}/{databasename}')\n",
    "\n",
    "# View the tables in the database\n",
    "print(engine.table_names())\n",
    "print(len(engine.table_names()))"
   ]
  },
  {
   "cell_type": "code",
   "execution_count": 24,
   "id": "00a03126",
   "metadata": {},
   "outputs": [
    {
     "data": {
      "text/html": [
       "<div>\n",
       "<style scoped>\n",
       "    .dataframe tbody tr th:only-of-type {\n",
       "        vertical-align: middle;\n",
       "    }\n",
       "\n",
       "    .dataframe tbody tr th {\n",
       "        vertical-align: top;\n",
       "    }\n",
       "\n",
       "    .dataframe thead th {\n",
       "        text-align: right;\n",
       "    }\n",
       "</style>\n",
       "<table border=\"1\" class=\"dataframe\">\n",
       "  <thead>\n",
       "    <tr style=\"text-align: right;\">\n",
       "      <th></th>\n",
       "      <th>id</th>\n",
       "      <th>version</th>\n",
       "      <th>user_id</th>\n",
       "      <th>tstamp</th>\n",
       "      <th>changeset_id</th>\n",
       "      <th>tags</th>\n",
       "      <th>nodes</th>\n",
       "    </tr>\n",
       "  </thead>\n",
       "  <tbody>\n",
       "    <tr>\n",
       "      <th>0</th>\n",
       "      <td>4345043</td>\n",
       "      <td>18</td>\n",
       "      <td>0</td>\n",
       "      <td>2021-05-03 14:13:03</td>\n",
       "      <td>0</td>\n",
       "      <td>{'name': 'Kraftwerk Zolling', 'power': 'plant'...</td>\n",
       "      <td>[26464131, 1083557623, 1248745246, 1248745140,...</td>\n",
       "    </tr>\n",
       "    <tr>\n",
       "      <th>1</th>\n",
       "      <td>4670340</td>\n",
       "      <td>20</td>\n",
       "      <td>0</td>\n",
       "      <td>2021-05-03 14:13:03</td>\n",
       "      <td>0</td>\n",
       "      <td>{'name': 'Kraftwerk Bergkamen', 'power': 'plan...</td>\n",
       "      <td>[29668837, 1100238681, 8394499281, 8394499280,...</td>\n",
       "    </tr>\n",
       "    <tr>\n",
       "      <th>2</th>\n",
       "      <td>4674139</td>\n",
       "      <td>46</td>\n",
       "      <td>0</td>\n",
       "      <td>2021-09-26 10:06:39</td>\n",
       "      <td>0</td>\n",
       "      <td>{'lit': 'yes', 'ref': 'L 149', 'name': 'Molker...</td>\n",
       "      <td>[1204055483, 9048379288, 2682483361, 229510648...</td>\n",
       "    </tr>\n",
       "    <tr>\n",
       "      <th>3</th>\n",
       "      <td>4677631</td>\n",
       "      <td>35</td>\n",
       "      <td>0</td>\n",
       "      <td>2021-11-15 13:51:51</td>\n",
       "      <td>0</td>\n",
       "      <td>{'name': 'Heizkraftwerk Moabit', 'power': 'pla...</td>\n",
       "      <td>[29707202, 29707203, 4204602410, 1391402143, 4...</td>\n",
       "    </tr>\n",
       "    <tr>\n",
       "      <th>4</th>\n",
       "      <td>4763495</td>\n",
       "      <td>34</td>\n",
       "      <td>0</td>\n",
       "      <td>2022-02-08 09:40:44</td>\n",
       "      <td>0</td>\n",
       "      <td>{'name': 'Heizkraftwerk Charlottenburg', 'powe...</td>\n",
       "      <td>[2793532638, 30424002, 3240491933, 280934822, ...</td>\n",
       "    </tr>\n",
       "  </tbody>\n",
       "</table>\n",
       "</div>"
      ],
      "text/plain": [
       "        id  version  user_id              tstamp  changeset_id  \\\n",
       "0  4345043       18        0 2021-05-03 14:13:03             0   \n",
       "1  4670340       20        0 2021-05-03 14:13:03             0   \n",
       "2  4674139       46        0 2021-09-26 10:06:39             0   \n",
       "3  4677631       35        0 2021-11-15 13:51:51             0   \n",
       "4  4763495       34        0 2022-02-08 09:40:44             0   \n",
       "\n",
       "                                                tags  \\\n",
       "0  {'name': 'Kraftwerk Zolling', 'power': 'plant'...   \n",
       "1  {'name': 'Kraftwerk Bergkamen', 'power': 'plan...   \n",
       "2  {'lit': 'yes', 'ref': 'L 149', 'name': 'Molker...   \n",
       "3  {'name': 'Heizkraftwerk Moabit', 'power': 'pla...   \n",
       "4  {'name': 'Heizkraftwerk Charlottenburg', 'powe...   \n",
       "\n",
       "                                               nodes  \n",
       "0  [26464131, 1083557623, 1248745246, 1248745140,...  \n",
       "1  [29668837, 1100238681, 8394499281, 8394499280,...  \n",
       "2  [1204055483, 9048379288, 2682483361, 229510648...  \n",
       "3  [29707202, 29707203, 4204602410, 1391402143, 4...  \n",
       "4  [2793532638, 30424002, 3240491933, 280934822, ...  "
      ]
     },
     "execution_count": 24,
     "metadata": {},
     "output_type": "execute_result"
    }
   ],
   "source": [
    "# Create a SQL query to load the entire weather table\n",
    "query = \"\"\"\n",
    "SELECT * \n",
    "  FROM ways;\n",
    "\"\"\"\n",
    "\n",
    "# Load weather with the SQL query\n",
    "df = pd.read_sql(query, engine)\n",
    "\n",
    "# View the first few rows of data\n",
    "df.head()"
   ]
  },
  {
   "cell_type": "code",
   "execution_count": 25,
   "id": "ae80a5eb",
   "metadata": {},
   "outputs": [
    {
     "name": "stdout",
     "output_type": "stream",
     "text": [
      "Successful Upload. Status - 200\n"
     ]
    }
   ],
   "source": [
    "#Uploading a dataframe to s3 using boto3\n",
    "import boto3\n",
    "from credentials import access_key, secret_key\n",
    "import io\n",
    "import os\n",
    "\n",
    "s3_client = boto3.client('s3',\n",
    "            aws_access_key_id=access_key, \n",
    "            aws_secret_access_key= secret_key,\n",
    "                       region_name=\"us-east-1\")\n",
    "\n",
    "with io.StringIO() as csv_buffer:\n",
    "    df.to_csv(csv_buffer, index=False)\n",
    "\n",
    "    response = s3_client.put_object(\n",
    "        Bucket='asw-demos-hope', Key=\"test.csv\", Body=csv_buffer.getvalue()\n",
    "    )\n",
    "\n",
    "    status = response.get(\"ResponseMetadata\", {}).get(\"HTTPStatusCode\")\n",
    "\n",
    "    if status == 200:\n",
    "        print(f\"Successful Upload. Status - {status}\")\n",
    "    else:\n",
    "        print(f\"Unsuccessful Upload. Status - {status}\")"
   ]
  }
 ],
 "metadata": {
  "kernelspec": {
   "display_name": "Python 3 (ipykernel)",
   "language": "python",
   "name": "python3"
  },
  "language_info": {
   "codemirror_mode": {
    "name": "ipython",
    "version": 3
   },
   "file_extension": ".py",
   "mimetype": "text/x-python",
   "name": "python",
   "nbconvert_exporter": "python",
   "pygments_lexer": "ipython3",
   "version": "3.8.16"
  }
 },
 "nbformat": 4,
 "nbformat_minor": 5
}
