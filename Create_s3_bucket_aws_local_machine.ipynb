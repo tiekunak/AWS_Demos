{
 "cells": [
  {
   "cell_type": "code",
   "execution_count": 12,
   "id": "354fe2bd",
   "metadata": {},
   "outputs": [
    {
     "name": "stdout",
     "output_type": "stream",
     "text": [
      "{'ResponseMetadata': {'RequestId': 'CMYXVAA674WM1D5D', 'HostId': 'bmIcTKcx18MIChL6mIfZzjkQ7hISSkZV+RR5uwutXeZgrUhJdGOEeLFgsuNTbvtf17ezlSOH0oU=', 'HTTPStatusCode': 200, 'HTTPHeaders': {'x-amz-id-2': 'bmIcTKcx18MIChL6mIfZzjkQ7hISSkZV+RR5uwutXeZgrUhJdGOEeLFgsuNTbvtf17ezlSOH0oU=', 'x-amz-request-id': 'CMYXVAA674WM1D5D', 'date': 'Sat, 16 Mar 2024 21:01:53 GMT', 'location': '/examplebucket54662484', 'server': 'AmazonS3', 'content-length': '0'}, 'RetryAttempts': 0}, 'Location': '/examplebucket54662484'}\n"
     ]
    }
   ],
   "source": [
    "#create s3 bucket using jupyter notebook on a local machine\n",
    "import boto3\n",
    "from credentials import access_key, secret_key\n",
    "\n",
    "s3_client = boto3.client('s3',\n",
    "            aws_access_key_id=access_key, \n",
    "            aws_secret_access_key= secret_key,\n",
    "                       region_name=\"us-east-1\")\n",
    "response = s3_client.create_bucket( Bucket='examplebucket54662484', \n",
    "                                   #CreateBucketConfiguration={'Location': {'Type': 'AvailabilityZone','Name': 'us-east-1'}},\n",
    "                                  )\n",
    "print(response)"
   ]
  },
  {
   "cell_type": "code",
   "execution_count": 14,
   "id": "f40a5ce2",
   "metadata": {},
   "outputs": [
    {
     "name": "stdout",
     "output_type": "stream",
     "text": [
      "{'ResponseMetadata': {'RequestId': 'AJ344PWBSPJRB9QJ', 'HostId': 'NlT1yauMV+fUaU8bUxH0vV0PB1wbNXwo+ARk4C3kOeLZozg2zium4uOSPLYAskwm9eJFb6JqcJE=', 'HTTPStatusCode': 204, 'HTTPHeaders': {'x-amz-id-2': 'NlT1yauMV+fUaU8bUxH0vV0PB1wbNXwo+ARk4C3kOeLZozg2zium4uOSPLYAskwm9eJFb6JqcJE=', 'x-amz-request-id': 'AJ344PWBSPJRB9QJ', 'date': 'Sat, 16 Mar 2024 21:03:39 GMT', 'server': 'AmazonS3'}, 'RetryAttempts': 0}}\n"
     ]
    }
   ],
   "source": [
    "#delete s3 bucket using jupyter notebook on local machine\n",
    "response = s3_client.delete_bucket( Bucket='examplebucket54662484')\n",
    "print(response)"
   ]
  },
  {
   "cell_type": "code",
   "execution_count": null,
   "id": "9ff11e13",
   "metadata": {},
   "outputs": [],
   "source": []
  }
 ],
 "metadata": {
  "kernelspec": {
   "display_name": "Python 3 (ipykernel)",
   "language": "python",
   "name": "python3"
  },
  "language_info": {
   "codemirror_mode": {
    "name": "ipython",
    "version": 3
   },
   "file_extension": ".py",
   "mimetype": "text/x-python",
   "name": "python",
   "nbconvert_exporter": "python",
   "pygments_lexer": "ipython3",
   "version": "3.8.16"
  }
 },
 "nbformat": 4,
 "nbformat_minor": 5
}
